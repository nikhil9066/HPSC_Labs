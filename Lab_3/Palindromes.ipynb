{
  "cells": [
    {
      "cell_type": "code",
      "source": [
        "import random\n",
        "import string\n",
        "import time\n",
        "import multiprocessing\n",
        "from functools import partial\n",
        "\n",
        "def generate_random_string(length):\n",
        "    return ''.join(random.choice(string.ascii_uppercase) for _ in range(length))\n",
        "\n",
        "def embed_palindrome(string_with_palindrome):\n",
        "    index = random.randint(0, len(string_with_palindrome) - 5)\n",
        "    palindrome = string_with_palindrome[index:index + 5][::-1]\n",
        "    return string_with_palindrome[:index] + palindrome + string_with_palindrome[index + 5:]\n",
        "\n",
        "def check_for_palindrome(string_to_check):\n",
        "    for i in range(len(string_to_check) - 4):\n",
        "        substring = string_to_check[i:i+5]\n",
        "        if substring == substring[::-1]:\n",
        "            return 1\n",
        "    return 0\n",
        "\n",
        "def serial_check(file_count):\n",
        "    output_variables = []\n",
        "    for _ in range(file_count):\n",
        "        random_string = generate_random_string(1000)\n",
        "        string_with_palindrome = embed_palindrome(random_string)\n",
        "        output_variables.append(check_for_palindrome(string_with_palindrome))\n",
        "    return output_variables\n",
        "\n",
        "def check_single(file_index):\n",
        "    random_string = generate_random_string(1000)\n",
        "    string_with_palindrome = embed_palindrome(random_string)\n",
        "    return check_for_palindrome(string_with_palindrome)\n",
        "\n",
        "def parallel_check(file_count):\n",
        "    with multiprocessing.Pool() as pool:\n",
        "        output_variables = pool.map(check_single, range(file_count))\n",
        "\n",
        "    return output_variables\n",
        "\n",
        "def main():\n",
        "    file_count = 100\n",
        "\n",
        "    # Serial execution\n",
        "    start_time_serial = time.time()\n",
        "    output_serial = serial_check(file_count)\n",
        "    end_time_serial = time.time()\n",
        "    serial_execution_time = end_time_serial - start_time_serial\n",
        "\n",
        "    # Parallel execution\n",
        "    start_time_parallel = time.time()\n",
        "    with multiprocessing.Pool() as pool:\n",
        "        output_parallel = pool.map(partial(check_single), range(file_count))\n",
        "    end_time_parallel = time.time()\n",
        "    parallel_execution_time = end_time_parallel - start_time_parallel\n",
        "\n",
        "    speedup_ratio = serial_execution_time / parallel_execution_time\n",
        "    average_efficiency = speedup_ratio / multiprocessing.cpu_count()\n",
        "\n",
        "    print(f\"Serial Execution Time: {serial_execution_time:.2f} seconds\")\n",
        "    print(f\"Parallel Execution Time: {parallel_execution_time:.2f} seconds \")\n",
        "    print(f\"Speedup Ratio: {speedup_ratio:.2f} (1 implies no speedup)\")\n",
        "    print(f\"Average Efficiency: {average_efficiency:.2%}\")\n",
        "\n",
        "if __name__ == \"__main__\":\n",
        "    main()\n"
      ],
      "metadata": {
        "colab": {
          "base_uri": "https://localhost:8080/"
        },
        "id": "Hv--_Zy1Yov_",
        "outputId": "e666bb24-2036-407f-cd31-b0f0482cd339"
      },
      "execution_count": null,
      "outputs": [
        {
          "output_type": "stream",
          "name": "stdout",
          "text": [
            "Serial Execution Time: 0.22 seconds\n",
            "Parallel Execution Time: 0.31 seconds \n",
            "Speedup Ratio: 0.72 (1 implies no speedup)\n",
            "Average Efficiency: 35.78%\n"
          ]
        }
      ]
    },
    {
      "cell_type": "code",
      "source": [
        "import random\n",
        "import string\n",
        "import time\n",
        "import multiprocessing\n",
        "from functools import partial\n",
        "\n",
        "def generate_random_string(length):\n",
        "    return ''.join(random.choice(string.ascii_uppercase) for _ in range(length))\n",
        "\n",
        "def embed_palindrome(string_with_palindrome):\n",
        "    index = random.randint(0, len(string_with_palindrome) - 5)\n",
        "    palindrome = string_with_palindrome[index:index + 5][::-1]\n",
        "    return string_with_palindrome[:index] + palindrome + string_with_palindrome[index + 5:], palindrome\n",
        "\n",
        "def check_for_palindrome(string_to_check):\n",
        "    for i in range(len(string_to_check) - 4):\n",
        "        substring = string_to_check[i:i+5]\n",
        "        if substring == substring[::-1]:\n",
        "            return 1, string_to_check\n",
        "    return 0, None\n",
        "\n",
        "def serial_check(file_count):\n",
        "    output_variables = []\n",
        "    for _ in range(file_count):\n",
        "        random_string = generate_random_string(1000)\n",
        "        string_with_palindrome, palindrome = embed_palindrome(random_string)\n",
        "        result, _ = check_for_palindrome(string_with_palindrome)\n",
        "        output_variables.append((result, palindrome))\n",
        "    return output_variables\n",
        "\n",
        "def check_single(file_index):\n",
        "    random_string = generate_random_string(1000)\n",
        "    string_with_palindrome, palindrome = embed_palindrome(random_string)\n",
        "    result, _ = check_for_palindrome(string_with_palindrome)\n",
        "    return result, palindrome\n",
        "\n",
        "def parallel_check(file_count):\n",
        "    with multiprocessing.Pool() as pool:\n",
        "        output_variables = pool.map(partial(check_single), range(file_count))\n",
        "\n",
        "    return output_variables\n",
        "\n",
        "def main():\n",
        "    file_count = 100\n",
        "\n",
        "    # Serial execution\n",
        "    start_time_serial = time.time()\n",
        "    output_serial = serial_check(file_count)\n",
        "    end_time_serial = time.time()\n",
        "    serial_execution_time = end_time_serial - start_time_serial\n",
        "\n",
        "    # Parallel execution\n",
        "    start_time_parallel = time.time()\n",
        "    with multiprocessing.Pool() as pool:\n",
        "        output_parallel = pool.map(partial(check_single), range(file_count))\n",
        "    end_time_parallel = time.time()\n",
        "    parallel_execution_time = end_time_parallel - start_time_parallel\n",
        "\n",
        "    speedup_ratio = serial_execution_time / parallel_execution_time\n",
        "    average_efficiency = speedup_ratio / multiprocessing.cpu_count()\n",
        "\n",
        "    print(f\"Serial Execution Time: {serial_execution_time:.2f} seconds\")\n",
        "    print(f\"Parallel Execution Time: {parallel_execution_time:.2f} seconds \")\n",
        "    print(f\"Speedup Ratio: {speedup_ratio:.2f} (1 implies no speedup)\")\n",
        "    print(f\"Average Efficiency: {average_efficiency:.2%}\")\n",
        "\n",
        "    # # Print results for the first file in both serial and parallel executions\n",
        "    # print(\"\\nSerial Result:\")\n",
        "    # print(output_serial)\n",
        "    # print(output_serial[0])\n",
        "\n",
        "    # print(\"\\nParallel Result:\")\n",
        "    # print(output_parallel[0])\n",
        "\n",
        "if __name__ == \"__main__\":\n",
        "    main()\n"
      ],
      "metadata": {
        "colab": {
          "base_uri": "https://localhost:8080/"
        },
        "id": "k1WEZchcYsCb",
        "outputId": "07bc41ab-8864-432f-8c88-059af09214ec"
      },
      "execution_count": null,
      "outputs": [
        {
          "output_type": "stream",
          "name": "stdout",
          "text": [
            "Serial Execution Time: 0.08 seconds\n",
            "Parallel Execution Time: 0.11 seconds \n",
            "Speedup Ratio: 0.73 (1 implies no speedup)\n",
            "Average Efficiency: 36.42%\n"
          ]
        }
      ]
    },
    {
      "cell_type": "code",
      "source": [],
      "metadata": {
        "id": "qh8huArxZJN8"
      },
      "execution_count": null,
      "outputs": []
    }
  ],
  "metadata": {
    "accelerator": "GPU",
    "colab": {
      "gpuType": "T4",
      "provenance": []
    },
    "kernelspec": {
      "display_name": "Python 3",
      "name": "python3"
    },
    "language_info": {
      "name": "python"
    }
  },
  "nbformat": 4,
  "nbformat_minor": 0
}