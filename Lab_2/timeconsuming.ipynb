{
  "cells": [
    {
      "cell_type": "code",
      "source": [
        "import concurrent.futures\n",
        "import time\n",
        "\n",
        "def simulate_task(iterations):\n",
        "    for j in range(iterations):\n",
        "        time.sleep(0.01)\n",
        "\n",
        "def run_parallel_tasks(num_tasks, num_threads):\n",
        "    start_time_single_task = time.time()\n",
        "    simulate_task(1)\n",
        "    elapsed_time_single_task = time.time() - start_time_single_task\n",
        "\n",
        "    start_time_parallel_tasks = time.time()\n",
        "    with concurrent.futures.ThreadPoolExecutor(max_workers=num_threads) as executor:\n",
        "        futures = [executor.submit(simulate_task, 1) for i in range(num_tasks)]\n",
        "    concurrent.futures.wait(futures)\n",
        "    elapsed_time_parallel_tasks = time.time() - start_time_parallel_tasks\n",
        "\n",
        "    speedup = elapsed_time_single_task / elapsed_time_parallel_tasks\n",
        "    efficiency = speedup / num_tasks\n",
        "\n",
        "    print(\"\\n\")\n",
        "    print(f\"Number of task: \", num_tasks)\n",
        "    print(f\"Elapsed time for a single task: {elapsed_time_single_task:.3f} seconds\")\n",
        "    print(f\"Elapsed time for parallel tasks: {elapsed_time_parallel_tasks:.3f} seconds\")\n",
        "    print(f\"Speed up: {speedup:.2f}\")\n",
        "    print(f\"Efficiency: {efficiency:.2f}\")\n",
        "\n",
        "if __name__ == \"__main__\":\n",
        "    # Parallel tasks with 10 iterations and 4 threads\n",
        "    run_parallel_tasks(10, 4)\n",
        "    run_parallel_tasks(100, 4)\n",
        "    run_parallel_tasks(1000, 4)"
      ],
      "metadata": {
        "colab": {
          "base_uri": "https://localhost:8080/"
        },
        "id": "LeQs0rQmYMeN",
        "outputId": "83abecd1-034b-46b9-d021-9b0330d8c594"
      },
      "execution_count": 8,
      "outputs": [
        {
          "output_type": "stream",
          "name": "stdout",
          "text": [
            "\n",
            "\n",
            "Number of task:  10\n",
            "Elapsed time for a single task: 0.010 seconds\n",
            "Elapsed time for parallel tasks: 0.032 seconds\n",
            "Speed up: 0.32\n",
            "Efficiency: 0.03\n",
            "\n",
            "\n",
            "Number of task:  100\n",
            "Elapsed time for a single task: 0.010 seconds\n",
            "Elapsed time for parallel tasks: 0.263 seconds\n",
            "Speed up: 0.04\n",
            "Efficiency: 0.00\n",
            "\n",
            "\n",
            "Number of task:  1000\n",
            "Elapsed time for a single task: 0.010 seconds\n",
            "Elapsed time for parallel tasks: 2.596 seconds\n",
            "Speed up: 0.00\n",
            "Efficiency: 0.00\n"
          ]
        }
      ]
    },
    {
      "cell_type": "code",
      "source": [],
      "metadata": {
        "id": "2L7Jd45EdNMd"
      },
      "execution_count": null,
      "outputs": []
    }
  ],
  "metadata": {
    "accelerator": "GPU",
    "colab": {
      "gpuType": "T4",
      "provenance": []
    },
    "kernelspec": {
      "display_name": "R",
      "name": "ir"
    },
    "language_info": {
      "name": "R"
    }
  },
  "nbformat": 4,
  "nbformat_minor": 0
}