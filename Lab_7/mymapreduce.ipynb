{
  "nbformat": 4,
  "nbformat_minor": 0,
  "metadata": {
    "colab": {
      "provenance": []
    },
    "kernelspec": {
      "name": "python3",
      "display_name": "Python 3"
    },
    "language_info": {
      "name": "python"
    }
  },
  "cells": [
    {
      "cell_type": "markdown",
      "source": [
        "# Question - 1"
      ],
      "metadata": {
        "id": "q0mdgxvsGxrX"
      }
    },
    {
      "cell_type": "code",
      "execution_count": 1,
      "metadata": {
        "colab": {
          "base_uri": "https://localhost:8080/"
        },
        "id": "Sy8OaffktPuQ",
        "outputId": "d3f307ae-206d-46a2-9612-7d35cfc7ee16"
      },
      "outputs": [
        {
          "output_type": "stream",
          "name": "stdout",
          "text": [
            "nc=2, op=sum: result=50145\n",
            "nc=2, op=average: result=100.28999999999999\n",
            "nc=2, op=min: result=0\n",
            "nc=2, op=max: result=198\n",
            "nc=4, op=sum: result=50145\n",
            "nc=4, op=average: result=200.57999999999998\n",
            "nc=4, op=min: result=0\n",
            "nc=4, op=max: result=396\n",
            "nc=8, op=sum: result=50145\n",
            "nc=8, op=average: result=401.15999999999997\n",
            "nc=8, op=min: result=4\n",
            "nc=8, op=max: result=788\n"
          ]
        }
      ],
      "source": [
        "import numpy as np\n",
        "\n",
        "def mymapreduce(v, nc, op):\n",
        "    # Map part\n",
        "    chunk_size = len(v) // nc\n",
        "    chunks = [v[i:i+chunk_size] for i in range(0, len(v), chunk_size)]\n",
        "\n",
        "    # Apply operation to each partition\n",
        "    if op == 'sum':\n",
        "        results = [np.sum(chunk) for chunk in chunks]\n",
        "    elif op == 'average':\n",
        "        results = [np.mean(chunk) for chunk in chunks]\n",
        "    elif op == 'min':\n",
        "        results = [np.min(chunk) for chunk in chunks]\n",
        "    elif op == 'max':\n",
        "        results = [np.max(chunk) for chunk in chunks]\n",
        "    else:\n",
        "        raise ValueError(\"Unsupported operation\")\n",
        "\n",
        "    # Reduce part\n",
        "    final_result = np.sum(results)\n",
        "\n",
        "    return final_result\n",
        "\n",
        "# Test with random vector\n",
        "v = np.random.randint(0, 100, 1000)\n",
        "nc_values = [2, 4, 8]\n",
        "operations = ['sum', 'average', 'min', 'max']\n",
        "\n",
        "for nc in nc_values:\n",
        "    for op in operations:\n",
        "        result = mymapreduce(v, nc, op)\n",
        "        print(f\"nc={nc}, op={op}: result={result}\")\n"
      ]
    },
    {
      "cell_type": "markdown",
      "source": [
        "# Question - 2"
      ],
      "metadata": {
        "id": "jfCFUjBDHTQD"
      }
    },
    {
      "cell_type": "code",
      "source": [
        "import numpy as np\n",
        "\n",
        "def map_operation(matrix_chunk, op):\n",
        "    if op == 'sum':\n",
        "        return np.sum(matrix_chunk)\n",
        "    elif op == 'average':\n",
        "        return np.mean(matrix_chunk)\n",
        "    elif op == 'min':\n",
        "        return np.min(matrix_chunk)\n",
        "    elif op == 'max':\n",
        "        return np.max(matrix_chunk)\n",
        "    else:\n",
        "        raise ValueError(\"Unsupported operation\")\n",
        "\n",
        "def mymapreduce(matrix, nc, op):\n",
        "    m, n = matrix.shape\n",
        "    chunk_size = m // nc\n",
        "    chunk_indices = [i * chunk_size for i in range(nc)]\n",
        "    chunks = [matrix[i:i+chunk_size, :] for i in chunk_indices]\n",
        "    results = [map_operation(chunk, op) for chunk in chunks]\n",
        "    return np.sum(results)\n",
        "\n",
        "# Test with random matrix\n",
        "matrix = np.random.randint(0, 100, size=(800, 1000))\n",
        "nc_values = [2, 4, 8]\n",
        "operations = ['sum', 'average', 'min', 'max']\n",
        "\n",
        "for nc in nc_values:\n",
        "    for op in operations:\n",
        "        result = mymapreduce(matrix, nc, op)\n",
        "        print(f\"nc={nc}, op={op}: result={result}\")\n"
      ],
      "metadata": {
        "colab": {
          "base_uri": "https://localhost:8080/"
        },
        "id": "xLIi1jSLuJKu",
        "outputId": "f2be8c8c-7c0a-4751-ec48-1af433224ff9"
      },
      "execution_count": 8,
      "outputs": [
        {
          "output_type": "stream",
          "name": "stdout",
          "text": [
            "nc=2, op=sum: result=39619301\n",
            "nc=2, op=average: result=99.04825249999999\n",
            "nc=2, op=min: result=0\n",
            "nc=2, op=max: result=198\n",
            "nc=4, op=sum: result=39619301\n",
            "nc=4, op=average: result=198.096505\n",
            "nc=4, op=min: result=0\n",
            "nc=4, op=max: result=396\n",
            "nc=8, op=sum: result=39619301\n",
            "nc=8, op=average: result=396.19301\n",
            "nc=8, op=min: result=0\n",
            "nc=8, op=max: result=792\n"
          ]
        }
      ]
    },
    {
      "cell_type": "markdown",
      "source": [
        "# Question - 3"
      ],
      "metadata": {
        "id": "-R-hV5_DHWGO"
      }
    },
    {
      "cell_type": "code",
      "source": [
        "import numpy as np\n",
        "\n",
        "def apply_operation(chunk, op):\n",
        "    if op == 'sum':\n",
        "        return np.sum(chunk)\n",
        "    elif op == 'average':\n",
        "        return np.mean(chunk)\n",
        "    elif op == 'min':\n",
        "        return np.min(chunk)\n",
        "    elif op == 'max':\n",
        "        return np.max(chunk)\n",
        "    else:\n",
        "        raise ValueError(\"Unsupported operation\")\n",
        "\n",
        "def partition_cuboid(cuboid, nc):\n",
        "    m, _, _ = cuboid.shape\n",
        "    chunk_size = m // nc\n",
        "    return [cuboid[i:i+chunk_size, :, :] for i in range(0, m, chunk_size)]\n",
        "\n",
        "def mymapreduce(cuboid, nc, op):\n",
        "    chunks = partition_cuboid(cuboid, nc)\n",
        "    results = [apply_operation(chunk, op) for chunk in chunks]\n",
        "    return np.sum(results)\n",
        "\n",
        "# Test with random cuboid matrix\n",
        "cuboid_matrix = np.random.randint(0, 100, size=(50, 100, 200))\n",
        "nc_values = [2, 4, 8]\n",
        "operations = ['sum', 'average', 'min', 'max']\n",
        "\n",
        "for nc in nc_values:\n",
        "    for op in operations:\n",
        "        result = mymapreduce(cuboid_matrix, nc, op)\n",
        "        print(f\"nc={nc}, op={op}: result={result}\")\n"
      ],
      "metadata": {
        "colab": {
          "base_uri": "https://localhost:8080/"
        },
        "id": "DBqQJaNTGd8m",
        "outputId": "abe58a6b-939a-4191-d734-25fae8ff3074"
      },
      "execution_count": 2,
      "outputs": [
        {
          "output_type": "stream",
          "name": "stdout",
          "text": [
            "nc=2, op=sum: result=49503369\n",
            "nc=2, op=average: result=99.006738\n",
            "nc=2, op=min: result=0\n",
            "nc=2, op=max: result=198\n",
            "nc=4, op=sum: result=49503369\n",
            "nc=4, op=average: result=247.61814166666667\n",
            "nc=4, op=min: result=0\n",
            "nc=4, op=max: result=495\n",
            "nc=8, op=sum: result=49503369\n",
            "nc=8, op=average: result=445.6113583333334\n",
            "nc=8, op=min: result=0\n",
            "nc=8, op=max: result=891\n"
          ]
        }
      ]
    }
  ]
}